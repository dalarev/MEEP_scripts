{
 "cells": [
  {
   "cell_type": "code",
   "execution_count": null,
   "id": "f5991e35-cc62-4775-b167-9cbec8306f2d",
   "metadata": {},
   "outputs": [],
   "source": [
    "import meep as mp\n",
    "from meep import mpb\n",
    "import matplotlib.pyplot as plt"
   ]
  },
  {
   "cell_type": "code",
   "execution_count": null,
   "id": "820c684d-1ddc-499b-a08b-7e7504964f0f",
   "metadata": {},
   "outputs": [],
   "source": [
    "num_bands = 4\n",
    "\n",
    "resolution = 64\n",
    "\n",
    "N_kpoints = 25\n",
    "\n",
    "eps1 = 13.\n",
    "eps2 = 1.\n",
    "\n",
    "d1 = 0.2\n",
    "\n",
    "geometry = [mp.Block(center=mp.Vector3(),\n",
    "                     size=mp.Vector3(d1, mp.inf, mp.inf),\n",
    "                     material=mp.Medium(epsilon=eps1))]\n",
    "\n",
    "geometry_lattice = mp.Lattice(size=mp.Vector3(1))\n",
    "\n",
    "# calculate bands along (0, ky, 0)\n",
    "k_points = [mp.Vector3(),\n",
    "            mp.Vector3(y=2.5)]\n",
    "k_points = mp.interpolate(N_kpoints, k_points)\n",
    "ms = mpb.ModeSolver(num_bands=num_bands,\n",
    "                    k_points=k_points,\n",
    "                    geometry=geometry,\n",
    "                    geometry_lattice=geometry_lattice,\n",
    "                    default_material=mp.Medium(epsilon=eps2),\n",
    "                    resolution=resolution)\n",
    "ms.run_tm()\n",
    "freqs1 = ms.all_freqs\n",
    "ky1 = [k.y for k in ms.k_points]\n",
    "\n",
    "# calculate bands along (π/a, ky, 0)\n",
    "k_points = [mp.Vector3(0.5),\n",
    "            mp.Vector3(0.5, 2.5)]\n",
    "k_points = mp.interpolate(N_kpoints, k_points)\n",
    "ms = mpb.ModeSolver(num_bands=num_bands,\n",
    "                    k_points=k_points,\n",
    "                    geometry=geometry,\n",
    "                    geometry_lattice=geometry_lattice,\n",
    "                    default_material=mp.Medium(epsilon=eps2),\n",
    "                    resolution=resolution)\n",
    "ms.run_tm()\n",
    "freqs2 = ms.all_freqs\n",
    "ky2 = [k.y for k in ms.k_points]\n",
    "\n",
    "# Superposition of two band structures:\n",
    "# blue = states along k = (0, ky, 0)\n",
    "# red = states along k = (kx = π/a, ky, 0)\n",
    "#\n",
    "plt.figure(figsize=(6,6))\n",
    "plt.plot(ky1, freqs1, 'bo-')\n",
    "plt.plot(ky2, freqs2, 'go-')\n",
    "plt.plot(ky1, ky1, 'r-', label=\"light line\")\n",
    "plt.xlabel(\"Wave vector $k_y$ a/2π\")\n",
    "plt.ylabel(\"frequency ωa/2πc\")\n",
    "plt.xlim(0, 2.5)\n",
    "plt.ylim(0, 1.0)\n",
    "plt.grid()\n",
    "\n",
    "plt.show()"
   ]
  }
 ],
 "metadata": {
  "kernelspec": {
   "display_name": "Python 3 (ipykernel)",
   "language": "python",
   "name": "python3"
  },
  "language_info": {
   "codemirror_mode": {
    "name": "ipython",
    "version": 3
   },
   "file_extension": ".py",
   "mimetype": "text/x-python",
   "name": "python",
   "nbconvert_exporter": "python",
   "pygments_lexer": "ipython3",
   "version": "3.10.8"
  }
 },
 "nbformat": 4,
 "nbformat_minor": 5
}
